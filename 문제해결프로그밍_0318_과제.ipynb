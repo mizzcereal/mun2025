{
  "nbformat": 4,
  "nbformat_minor": 0,
  "metadata": {
    "colab": {
      "provenance": [],
      "authorship_tag": "ABX9TyMXmcvkyg8KPCgKW3R5eodW",
      "include_colab_link": true
    },
    "kernelspec": {
      "name": "python3",
      "display_name": "Python 3"
    },
    "language_info": {
      "name": "python"
    }
  },
  "cells": [
    {
      "cell_type": "markdown",
      "metadata": {
        "id": "view-in-github",
        "colab_type": "text"
      },
      "source": [
        "<a href=\"https://colab.research.google.com/github/mizzcereal/mun2025/blob/master/%EB%AC%B8%EC%A0%9C%ED%95%B4%EA%B2%B0%ED%94%84%EB%A1%9C%EA%B7%B8%EB%B0%8D_0318_%EA%B3%BC%EC%A0%9C.ipynb\" target=\"_parent\"><img src=\"https://colab.research.google.com/assets/colab-badge.svg\" alt=\"Open In Colab\"/></a>"
      ]
    },
    {
      "cell_type": "code",
      "source": [
        "# ex1\n",
        "# 사각형의 넓이를 구할수 있는 Rectangle 클래스 구현\n",
        "# 사용자 입력을 통해 가로 세로 입력시 생성자를 통해 사각형 인스턴스를 만들고 결과 출력\n",
        "\n",
        "class Rectangle:\n",
        "  def __init__(self, width, height):\n",
        "    self.width = width\n",
        "    self.height = height\n",
        "  def area(self):\n",
        "    return self.width * self.height\n",
        "\n",
        "x = int(input(\"가로 입력 : \"))\n",
        "y = int(input(\"세로 입력: \"))\n",
        "circle = Rectangle(x, y)\n",
        "print(\"넓이 : \" , circle.area())"
      ],
      "metadata": {
        "id": "L7bll1DAget5"
      },
      "execution_count": null,
      "outputs": []
    },
    {
      "cell_type": "code",
      "source": [
        "# ex2\n",
        "# 게임 캐릭터 클래스 구현\n",
        "# 각 캐릭터는 name, life\n",
        "# 함수는 1회 공격이 체력 10 감소\n",
        "# 세개이상 캐릭터 생성하고 세개의 캐릭터 랜덤하게 공격받아서 아래와 같은 출력나오도록 코드 완선\n",
        "\n",
        "import random\n",
        "\n",
        "class Character:\n",
        "  def __init__(self,name,life):\n",
        "    self.name = name\n",
        "    self.life = life\n",
        "  def atk(self):\n",
        "    self.life -= 10\n",
        "    print(self.name, \"가 공격받음 ! 생명력\", self.life)\n",
        "\n",
        "champ1 = Character(\"신지드\", 1000)\n",
        "champ2 = Character(\"징크스\", 600)\n",
        "champ3 = Character(\"크샨테\", 900)\n",
        "\n",
        "for i in range(10):\n",
        "  rand = random.randint(1,3)\n",
        "  if rand == 1:\n",
        "    champ1.atk()\n",
        "  elif rand == 2:\n",
        "    champ2.atk()\n",
        "  else:\n",
        "    champ3.atk()"
      ],
      "metadata": {
        "colab": {
          "base_uri": "https://localhost:8080/"
        },
        "id": "Y7fir3aSggId",
        "outputId": "73953c10-2109-4b12-b7f4-c49ee5c28428"
      },
      "execution_count": null,
      "outputs": [
        {
          "output_type": "stream",
          "name": "stdout",
          "text": [
            "크샨테 가 공격받음 ! 생명력 890\n",
            "징크스 가 공격받음 ! 생명력 590\n",
            "크샨테 가 공격받음 ! 생명력 880\n",
            "신지드 가 공격받음 ! 생명력 990\n",
            "신지드 가 공격받음 ! 생명력 980\n",
            "신지드 가 공격받음 ! 생명력 970\n",
            "징크스 가 공격받음 ! 생명력 580\n",
            "크샨테 가 공격받음 ! 생명력 870\n",
            "징크스 가 공격받음 ! 생명력 570\n",
            "신지드 가 공격받음 ! 생명력 960\n"
          ]
        }
      ]
    },
    {
      "cell_type": "code",
      "source": [
        "# ex4\n",
        "# name과 age를 인스턴스 변수로 가지는 클래스 Person, 생성자도 구현,\n",
        "# 2명 이상의 Person 인스턴스를 생성한 후 get_name()과 get_age() 인스턴스 함수를 통해 이름과 나이를 출력\n",
        "\n",
        "class Person:\n",
        "  def __init__(self, name, age):\n",
        "    self.name = name\n",
        "    self.age = age\n",
        "  def __str__(self):\n",
        "    return f\"{self.name} is {self.age} years old\"\n",
        "\n",
        "  def get_name(self):\n",
        "    return self.name\n",
        "  def get_age(self):\n",
        "    return self.age\n",
        "\n",
        "a = Person(\"SangwUk\", 26)\n",
        "b = Person(\"Python\", 10)\n",
        "\n",
        "print(str(a))\n",
        "print(str(b))"
      ],
      "metadata": {
        "colab": {
          "base_uri": "https://localhost:8080/"
        },
        "id": "ByJXwVBUua3E",
        "outputId": "6740d993-396a-487b-bc32-ca95fcaa2ff7"
      },
      "execution_count": 3,
      "outputs": [
        {
          "output_type": "stream",
          "name": "stdout",
          "text": [
            "SangwUk is 26 years old\n",
            "Python is 10 years old\n"
          ]
        }
      ]
    }
  ]
}